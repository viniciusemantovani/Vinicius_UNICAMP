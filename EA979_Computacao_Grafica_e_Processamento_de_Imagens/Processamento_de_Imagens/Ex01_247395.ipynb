{
  "cells": [
    {
      "cell_type": "markdown",
      "metadata": {
        "id": "eq5E2Ymr8qHp"
      },
      "source": [
        "Nome: Vinícius Esperança Mantovani\n",
        "\n",
        "RA: 247395\n",
        "\n",
        "Curso: Engenharia De Computação\n",
        "\n"
      ]
    },
    {
      "cell_type": "markdown",
      "metadata": {
        "id": "YtINjzumUi4s"
      },
      "source": [
        "# Ex01 - Aprendendo Numpy\n"
      ]
    },
    {
      "cell_type": "code",
      "execution_count": 111,
      "metadata": {
        "id": "_IcuGzt_8qHs"
      },
      "outputs": [],
      "source": [
        "# Importando as bibliotecas que serão utilizadas\n",
        "import numpy as np\n",
        "%matplotlib inline\n",
        "import matplotlib.pyplot as plt\n",
        "from PIL import Image"
      ]
    },
    {
      "cell_type": "code",
      "execution_count": 113,
      "metadata": {
        "id": "K5Pbi9iY8qHs",
        "colab": {
          "base_uri": "https://localhost:8080/"
        },
        "outputId": "c5ec7795-b01a-41c2-ff6c-3a66d56d0f3a"
      },
      "outputs": [
        {
          "output_type": "stream",
          "name": "stdout",
          "text": [
            "Drive already mounted at /content/gdrive; to attempt to forcibly remount, call drive.mount(\"/content/gdrive\", force_remount=True).\n"
          ]
        }
      ],
      "source": [
        "# Conexão do colab com o drive\n",
        "from google.colab import drive\n",
        "drive.mount('/content/gdrive')"
      ]
    },
    {
      "cell_type": "markdown",
      "metadata": {
        "id": "o-W-I1kiT-8G"
      },
      "source": [
        "## Parte 1 - Exercitando o uso do Numpy"
      ]
    },
    {
      "cell_type": "markdown",
      "metadata": {
        "id": "HFhzTar2Ui4v"
      },
      "source": [
        "### Visualizando arrays em forma de imagem"
      ]
    },
    {
      "cell_type": "code",
      "execution_count": 112,
      "metadata": {
        "colab": {
          "base_uri": "https://localhost:8080/"
        },
        "id": "lyw-0E6yUi4v",
        "outputId": "4b61ad4d-5060-43a3-f630-8e821ff36de2"
      },
      "outputs": [
        {
          "output_type": "stream",
          "name": "stdout",
          "text": [
            "Imagem constante:\n",
            " [[1. 1. 1. ... 1. 1. 1.]\n",
            " [1. 1. 1. ... 1. 1. 1.]\n",
            " [1. 1. 1. ... 1. 1. 1.]\n",
            " ...\n",
            " [1. 1. 1. ... 1. 1. 1.]\n",
            " [1. 1. 1. ... 1. 1. 1.]\n",
            " [1. 1. 1. ... 1. 1. 1.]]\n",
            "Dimensões da imagem: (100, 120)\n"
          ]
        }
      ],
      "source": [
        "f = np.ones((100,120))\n",
        "print(\"Imagem constante:\\n\",f)\n",
        "print(\"Dimensões da imagem:\",f.shape)"
      ]
    },
    {
      "cell_type": "code",
      "execution_count": 114,
      "metadata": {
        "colab": {
          "base_uri": "https://localhost:8080/",
          "height": 377
        },
        "id": "_c7eUOHlUi4x",
        "outputId": "8e93423e-313a-450b-ac57-b8a93509d678"
      },
      "outputs": [
        {
          "output_type": "execute_result",
          "data": {
            "text/plain": [
              "<matplotlib.colorbar.Colorbar at 0x785ae0f8ceb0>"
            ]
          },
          "metadata": {},
          "execution_count": 114
        },
        {
          "output_type": "display_data",
          "data": {
            "text/plain": [
              "<Figure size 500x400 with 2 Axes>"
            ],
            "image/png": "[encoded data removed]"
          },
          "metadata": {}
        }
      ],
      "source": [
        "plt.figure(figsize=(5, 4))\n",
        "plt.imshow(f,cmap='gray')\n",
        "plt.title('Imagem constante')\n",
        "plt.colorbar()"
      ]
    },
    {
      "cell_type": "markdown",
      "metadata": {
        "id": "_vDIgFwYTXzP"
      },
      "source": [
        "## Parte 2 - Manipulando arrays com Numpy\n",
        "\n"
      ]
    },
    {
      "cell_type": "markdown",
      "metadata": {
        "id": "OtRAq-XPTn07"
      },
      "source": [
        "Nesta seção, serão abordados os métodos empregados nos tutoriais disponíveis em [\"Aprendendo Numpy\"](https://github.com/lrittner/Computacao-Visual/blob/master/tutoriais/02_Aprendendo_Numpy.ipynb).\n",
        "\n",
        "**Note que os arrays (as imagens) NUNCA devem ser \"varridos\" elemento a elemento (pixel a pixel)! Ou seja, ao invés de acessar individualmente cada posição de um array usando *for*, deve-se utilizar o fatiamento (slicing) e as funções de manipulação de array fornecidas pelo Numpy.**"
      ]
    },
    {
      "cell_type": "markdown",
      "metadata": {
        "id": "k_cZ4ps0Z3rT"
      },
      "source": [
        "### Exercício 2.1"
      ]
    },
    {
      "cell_type": "markdown",
      "metadata": {
        "id": "jKpq0f_3Ue83"
      },
      "source": [
        "**a)** Crie um array do numpy, **a**, formado apenas por elementos \"1\", de tipo \"int16\", com 5 linhas e 3 colunas. Printe o array criado;"
      ]
    },
    {
      "cell_type": "code",
      "execution_count": 115,
      "metadata": {
        "colab": {
          "base_uri": "https://localhost:8080/"
        },
        "id": "vJl90QuiVrVw",
        "outputId": "6ff18f34-3bc7-4615-82d7-43a15424e9ab"
      },
      "outputs": [
        {
          "output_type": "stream",
          "name": "stdout",
          "text": [
            "array criado:\n",
            " [[1 1 1]\n",
            " [1 1 1]\n",
            " [1 1 1]\n",
            " [1 1 1]\n",
            " [1 1 1]]\n"
          ]
        }
      ],
      "source": [
        "a = np.ones((5,3), np.int16)\n",
        "print(\"array criado:\\n\",a)"
      ]
    },
    {
      "cell_type": "markdown",
      "metadata": {
        "id": "w7KelNqGVr-F"
      },
      "source": [
        "**b)** Crie um novo array **b** a partir do array **a**. Altere o elemento da 3ª linha e 2ª coluna do array **b** para zero (0), sem que o array **a** seja alterado. Comente a metodologia empregada e printe os arrays **a** e **b**;"
      ]
    },
    {
      "cell_type": "code",
      "execution_count": 116,
      "metadata": {
        "colab": {
          "base_uri": "https://localhost:8080/"
        },
        "id": "eotdHqZFWG6n",
        "outputId": "57ab03a7-9eac-4c66-c777-0f03588f84e6"
      },
      "outputs": [
        {
          "output_type": "stream",
          "name": "stdout",
          "text": [
            "array a:\n",
            " [[1 1 1]\n",
            " [1 1 1]\n",
            " [1 1 1]\n",
            " [1 1 1]\n",
            " [1 1 1]]\n",
            "array b:\n",
            " [[1 1 1]\n",
            " [1 1 1]\n",
            " [1 0 1]\n",
            " [1 1 1]\n",
            " [1 1 1]]\n"
          ]
        }
      ],
      "source": [
        "#Foi usado o metodo de copia profunda para copiar a matriz e alterar apenas a matriz \"b\", sem alterar a \"a\"\n",
        "b = np.copy(a)\n",
        "b[2,1] = 0\n",
        "print(\"array a:\\n\",a)\n",
        "print(\"array b:\\n\",b)"
      ]
    },
    {
      "cell_type": "markdown",
      "metadata": {
        "id": "LFI3oWKy8qHy"
      },
      "source": [
        "**c)** Muitas vezes, estamos interessados em manipular pixels ou regiões específicas de uma imagem. Podemos utilizar o fatiamento (slicing) para criar um array auxiliar dos pixels que queremos manipular. Assim, ao modificar o array auxiliar, apenas os pixels de interesse serão alterados no array original. Para exercitar esse processo, altere o valor de todos os elementos da 2ª coluna do array **b** para 2, utilizando o fatiamento (slicing) e um array auxiliar **c**.  Comente a metodologia empregada e printe os arrays **b** e **c**;"
      ]
    },
    {
      "cell_type": "code",
      "execution_count": 117,
      "metadata": {
        "colab": {
          "base_uri": "https://localhost:8080/"
        },
        "id": "a3e-ElKkXc-p",
        "outputId": "2dda2142-7ff2-49b4-d3b4-0b73df11c604"
      },
      "outputs": [
        {
          "output_type": "stream",
          "name": "stdout",
          "text": [
            "array b:\n",
            " [[1 1 1]\n",
            " [1 1 1]\n",
            " [1 0 1]\n",
            " [1 1 1]\n",
            " [1 1 1]]\n",
            "array c:\n",
            " [[1 2 1]\n",
            " [1 2 1]\n",
            " [1 2 1]\n",
            " [1 2 1]\n",
            " [1 2 1]]\n"
          ]
        }
      ],
      "source": [
        "#Foi utilizado o metodo de fatiamento de array para alterar apenas a segunda coluna\n",
        "c = np.copy(b)\n",
        "c[:,1] = 2\n",
        "print(\"array b:\\n\",b)\n",
        "print(\"array c:\\n\",c)"
      ]
    },
    {
      "cell_type": "markdown",
      "metadata": {
        "id": "B7A683XvZ-Dc"
      },
      "source": [
        "### Exercício 2.2\n",
        "\n"
      ]
    },
    {
      "cell_type": "markdown",
      "metadata": {
        "id": "0suXWMvmaDiq"
      },
      "source": [
        "**a)** Crie um array do numpy, **d**, formado por 21 elementos sequenciais, com valor inicial 0, valor final 100 e passo 5. Printe o array criado e comente a metodologia utilizada;"
      ]
    },
    {
      "cell_type": "code",
      "execution_count": 118,
      "metadata": {
        "colab": {
          "base_uri": "https://localhost:8080/"
        },
        "id": "QI2HC8SUbRAm",
        "outputId": "1438dd3e-ff14-4280-f6d9-9b1d8d539ddf"
      },
      "outputs": [
        {
          "output_type": "stream",
          "name": "stdout",
          "text": [
            "array d\n",
            ": [  0   5  10  15  20  25  30  35  40  45  50  55  60  65  70  75  80  85\n",
            "  90  95 100]\n"
          ]
        }
      ],
      "source": [
        "#Foi usado como metodo a funcao arange, responsavel por criar uma matriz (unidimensional no caso) de elementos sequenciais. Foi necessario usar o valor do segundo argumento como 105 pois a função para no passo anterior ao ultimo valor desejado\n",
        "d = np.arange(0, 105, 5)\n",
        "print(\"array d\\n:\", d)"
      ]
    },
    {
      "cell_type": "markdown",
      "metadata": {
        "id": "s59pBLm8bszk"
      },
      "source": [
        "**b)** Altere o array **d** para que este possua 7 linhas e 3 colunas. Printe o array resultante e comente a metodologia utilizada;"
      ]
    },
    {
      "cell_type": "code",
      "execution_count": 119,
      "metadata": {
        "colab": {
          "base_uri": "https://localhost:8080/"
        },
        "id": "KV4aP8eAbr4_",
        "outputId": "c73a599c-bb5b-487c-f826-22abd0432256"
      },
      "outputs": [
        {
          "output_type": "stream",
          "name": "stdout",
          "text": [
            "[[  0   5  10]\n",
            " [ 15  20  25]\n",
            " [ 30  35  40]\n",
            " [ 45  50  55]\n",
            " [ 60  65  70]\n",
            " [ 75  80  85]\n",
            " [ 90  95 100]]\n"
          ]
        }
      ],
      "source": [
        "#Foi usada a função reshape para redefinir o formato do array d\n",
        "d = np.reshape(d, (7,3))\n",
        "print(d)"
      ]
    },
    {
      "cell_type": "markdown",
      "metadata": {
        "id": "1uaiRjh5eUxZ"
      },
      "source": [
        "**c)** Utilizando fatiamento, efetue a inversão dos elementos do array **d** (primeiro elemento [0,0] vira o último [6,2], segundo elemento [0,1] vira o penúltimo [6,1], ...) sem alterar o shape original do array. Printe o array resultante e comente a metodologia utilizada;"
      ]
    },
    {
      "cell_type": "code",
      "execution_count": 120,
      "metadata": {
        "colab": {
          "base_uri": "https://localhost:8080/"
        },
        "id": "m3Jo40jvekOk",
        "outputId": "b9312f40-eefe-4ed4-b1fa-8c331ce0eb09"
      },
      "outputs": [
        {
          "output_type": "stream",
          "name": "stdout",
          "text": [
            "[[100  95  90]\n",
            " [ 85  80  75]\n",
            " [ 70  65  60]\n",
            " [ 55  50  45]\n",
            " [ 40  35  30]\n",
            " [ 25  20  15]\n",
            " [ 10   5   0]]\n"
          ]
        }
      ],
      "source": [
        "#Foi utilizado o fatiamento como metodo, de forma a inverter, inicialmente as linhas e, posteriormente, as colunas da matriz\n",
        "d = d[::-1, :]\n",
        "d = d[:, ::-1]\n",
        "print(d)"
      ]
    },
    {
      "cell_type": "markdown",
      "metadata": {
        "id": "GMRsUlg-iKxm"
      },
      "source": [
        "**d)** Utilizando fatiamento no array resultante no item anterior, printe apenas os elementos da 4ª à 5ª linhas e da 2ª à 3ª colunas.  Comente a metodologia utilizada."
      ]
    },
    {
      "cell_type": "code",
      "execution_count": 121,
      "metadata": {
        "colab": {
          "base_uri": "https://localhost:8080/"
        },
        "id": "GLxbKKcaiJlB",
        "outputId": "8b347cea-f1d5-4a97-d18d-5872226b9226"
      },
      "outputs": [
        {
          "output_type": "stream",
          "name": "stdout",
          "text": [
            "[[50 45]\n",
            " [35 30]]\n"
          ]
        }
      ],
      "source": [
        "#A metodologia empregada foi o uso de fatiamento de forma a selecionar as linhas e as colunas especificas a\n",
        "#serem impressas. Para isso, utilizou-se a sintace padrao do fatiamento (inicio:fim:passo)\n",
        "print(d[3:5:1, 1:3:1])"
      ]
    },
    {
      "cell_type": "markdown",
      "metadata": {
        "id": "xNsH_NbO8qH0"
      },
      "source": [
        "**e)** Altere o array **d** para que ele volte a possuir apenas uma dimensão. Printe o array resultante e comente a metodologia utilizada."
      ]
    },
    {
      "cell_type": "code",
      "execution_count": 122,
      "metadata": {
        "colab": {
          "base_uri": "https://localhost:8080/"
        },
        "id": "3tAOhmrc8qH0",
        "outputId": "19fe5014-1a95-4cd4-81aa-3d8d45a19c33"
      },
      "outputs": [
        {
          "output_type": "stream",
          "name": "stdout",
          "text": [
            "[100  95  90  85  80  75  70  65  60  55  50  45  40  35  30  25  20  15\n",
            "  10   5   0]\n"
          ]
        }
      ],
      "source": [
        "#Foi utilizado reshape com formato 21, indicando o numero de elementos, para redimensionar o array para ter uma unica dimensao\n",
        "d = np.reshape(d, 21)\n",
        "print(d)\n"
      ]
    },
    {
      "cell_type": "markdown",
      "metadata": {
        "id": "WNAmIzl8lJnB"
      },
      "source": [
        "### Exercício 2.3"
      ]
    },
    {
      "cell_type": "markdown",
      "metadata": {
        "id": "fvQjE07olNT3"
      },
      "source": [
        "**a)** Crie um array do numpy, **e**, formado por 35 elementos sequenciais, com:\n",
        "\n",
        "- valor inicial 0;\n",
        "- valor final 34;\n",
        "- passo 1;\n",
        "- shape (5,7).\n",
        "\n",
        "Printe o array criado, seu shape e comente a metodologia utilizada;"
      ]
    },
    {
      "cell_type": "code",
      "execution_count": 123,
      "metadata": {
        "id": "ULw_XlJrlccS",
        "colab": {
          "base_uri": "https://localhost:8080/"
        },
        "outputId": "6dab8ff8-74ed-446e-f954-51ac1aadd805"
      },
      "outputs": [
        {
          "output_type": "stream",
          "name": "stdout",
          "text": [
            "[[ 0  1  2  3  4  5  6]\n",
            " [ 7  8  9 10 11 12 13]\n",
            " [14 15 16 17 18 19 20]\n",
            " [21 22 23 24 25 26 27]\n",
            " [28 29 30 31 32 33 34]]\n"
          ]
        }
      ],
      "source": [
        "#Utilizou-se dos metodos de: arange para criar array sequencial e; reshape para cria-la ja com o formato desejado\n",
        "e = np.arange(0, 35, 1).reshape((5,7))\n",
        "print(e)"
      ]
    },
    {
      "cell_type": "markdown",
      "metadata": {
        "id": "3_dNSbW0lpJ8"
      },
      "source": [
        "**b)** Utilize um array booleano e indexação para printar apenas os elementos do array **e** que são maiores que 20. Comente a metodologia utilizada."
      ]
    },
    {
      "cell_type": "code",
      "execution_count": 124,
      "metadata": {
        "id": "AF-u7y9tmyaS",
        "colab": {
          "base_uri": "https://localhost:8080/"
        },
        "outputId": "bdabfe8f-175c-4397-ffeb-b43269fad004"
      },
      "outputs": [
        {
          "output_type": "stream",
          "name": "stdout",
          "text": [
            "[21 22 23 24 25 26 27 28 29 30 31 32 33 34]\n"
          ]
        }
      ],
      "source": [
        "#Neste exercicio, faz-se um array apenas com elementos de e que sejam maiores que 20 (e > 20), entao, usa-se este array para que os elementos impressos de e sejam apenas aqueles cujos respectivos indices sejam correspondentes a elementos True da array booleana\n",
        "print(e[e > 20])"
      ]
    },
    {
      "cell_type": "markdown",
      "metadata": {
        "id": "ecPXEkB5oP9h"
      },
      "source": [
        "**c)** Utilize um array booleano e indexação para printar apenas as colunas do array **e** cuja soma dos elementos resulte em um valor par. Comente a metodologia utilizada."
      ]
    },
    {
      "cell_type": "code",
      "execution_count": 125,
      "metadata": {
        "id": "aKWnIetUoPP-",
        "colab": {
          "base_uri": "https://localhost:8080/"
        },
        "outputId": "d3f750a7-4e8e-481d-e877-9bcb0062cd72"
      },
      "outputs": [
        {
          "output_type": "stream",
          "name": "stdout",
          "text": [
            "[[ 0  2  4  6]\n",
            " [ 7  9 11 13]\n",
            " [14 16 18 20]\n",
            " [21 23 25 27]\n",
            " [28 30 32 34]]\n"
          ]
        }
      ],
      "source": [
        "#O metodo empregado foi o uso da funcao sum no eixo 0 (colunas) para encontrar um array unidimensional com os valores das somas de cada coluna da matriz e, fez-se uma\n",
        "#matriz booleana comparando os restos dos elementos da matriz de somas divididos por dois. Por fim, isso foi usado para indexacao de forma a selecionar e imprimir apenas colunas com soma par.\n",
        "print(e[:,np.sum(e, axis=0) %2 == 0])"
      ]
    },
    {
      "cell_type": "markdown",
      "metadata": {
        "id": "GxpElKJsxgNF"
      },
      "source": [
        "### Exercício 2.4\n",
        "\n"
      ]
    },
    {
      "cell_type": "markdown",
      "metadata": {
        "id": "DwWkABHIxiIX"
      },
      "source": [
        "Crie uma função que tenha como entradas:\n",
        "- Inteiro **m** que corresponde às linhas de uma matriz;\n",
        "- Inteiro **n** que corresponde às colunas de uma matriz;\n",
        "\n",
        "e que retorne:\n",
        "- Uma matriz **X** de shape (m, n), em que cada elemento X[i,j] seja a distância Euclidiana entre a posição [i,j] e a posição [0,0].\n",
        "\n",
        "Dica: criar novas matrizes com as funções [*np.meshgrid*](https://github.com/lrittner/Computacao-Visual/blob/master/tutoriais/02_tutorial_numpy_1_6.ipynb) e [*np.arrange*](https://github.com/lrittner/Computacao-Visual/blob/master/tutoriais/02_tutorial_numpy_1_1.ipynb) para realizar as operações e obter os valores que comporão a matriz X.\n",
        "\n",
        "Teste a função com os valores **m=5** e **n=4**."
      ]
    },
    {
      "cell_type": "code",
      "execution_count": 126,
      "metadata": {
        "id": "qX8f43wIy9iq",
        "colab": {
          "base_uri": "https://localhost:8080/"
        },
        "outputId": "74eb4824-b1b2-4826-992a-febd32db031e"
      },
      "outputs": [
        {
          "output_type": "stream",
          "name": "stdout",
          "text": [
            "[[0.         1.         2.         3.         4.        ]\n",
            " [1.         1.41421356 2.23606798 3.16227766 4.12310563]\n",
            " [2.         2.23606798 2.82842712 3.60555128 4.47213595]\n",
            " [3.         3.16227766 3.60555128 4.24264069 5.        ]]\n"
          ]
        }
      ],
      "source": [
        "def function(m, n):\n",
        "  aux1 = np.arange(0,m)\n",
        "  aux2 = np.arange(0,n)\n",
        "  X1, X2 = np.meshgrid(aux1, aux2)\n",
        "  X = np.sqrt((X1)**2 + (X2)**2)\n",
        "  return X\n",
        "\n",
        "print(function(5,4))"
      ]
    },
    {
      "cell_type": "markdown",
      "metadata": {
        "id": "KB8fyJwRUi4y"
      },
      "source": [
        "## Parte 3 - Imagens sinteticas"
      ]
    },
    {
      "cell_type": "markdown",
      "metadata": {
        "id": "c_NCzACp1qkY"
      },
      "source": [
        "Veja um exemplo de criação de uma imagem sintética com Numpy e como visualizá-la com o matplotlib.pyplot:\n"
      ]
    },
    {
      "cell_type": "code",
      "execution_count": 127,
      "metadata": {
        "colab": {
          "base_uri": "https://localhost:8080/",
          "height": 314
        },
        "id": "Ng_kDFFR1qEA",
        "outputId": "16c35b52-75ac-4986-e81e-95da6505df9a"
      },
      "outputs": [
        {
          "output_type": "execute_result",
          "data": {
            "text/plain": [
              "<matplotlib.image.AxesImage at 0x785ae077a0e0>"
            ]
          },
          "metadata": {},
          "execution_count": 127
        },
        {
          "output_type": "display_data",
          "data": {
            "text/plain": [
              "<Figure size 300x300 with 1 Axes>"
            ],
            "image/png": "[encoded data removed]"
          },
          "metadata": {}
        }
      ],
      "source": [
        "# Criação de um quadrado cinza com dimensões 100 x 100\n",
        "array = np.zeros([100, 100], dtype=np.uint8)\n",
        "array[:,:] = [100]\n",
        "plt.figure(figsize = (3,3))\n",
        "plt.imshow(array,vmin=0, vmax=255, cmap='gray')"
      ]
    },
    {
      "cell_type": "markdown",
      "metadata": {
        "id": "G74vgkCq2Fww"
      },
      "source": [
        "### Exercício 3.1"
      ]
    },
    {
      "cell_type": "markdown",
      "metadata": {
        "id": "UtFMNrlk59IU"
      },
      "source": [
        "**a)** Crie um retângulo de tamanho 100 x 200 que seja formado por dois quadrados, um cinza claro e um cinza escuro. Plote o resultado obtido e comente a metodologia utilizada."
      ]
    },
    {
      "cell_type": "code",
      "execution_count": 128,
      "metadata": {
        "id": "DXLxgPHp580i",
        "colab": {
          "base_uri": "https://localhost:8080/",
          "height": 199
        },
        "outputId": "0983ff19-c0ae-410b-c35f-28554249d3a6"
      },
      "outputs": [
        {
          "output_type": "execute_result",
          "data": {
            "text/plain": [
              "<matplotlib.image.AxesImage at 0x785ae08e2fb0>"
            ]
          },
          "metadata": {},
          "execution_count": 128
        },
        {
          "output_type": "display_data",
          "data": {
            "text/plain": [
              "<Figure size 300x300 with 1 Axes>"
            ],
            "image/png": "[encoded data removed]"
          },
          "metadata": {}
        }
      ],
      "source": [
        "#Neste exercicio, foram criados dois quadrados de cores diferentes e, em sequencia, esses quadrados foram concatenados (funcao concatenate)\n",
        "#para constituirem um retangulo. Por fim, o retangulo foi exibido seguindo o procedimento ensinado anteriormente\n",
        "quadrado1 = np.zeros([100, 100], dtype=np.uint8)\n",
        "quadrado2 = np.zeros([100, 100], dtype=np.uint8)\n",
        "quadrado1[:,:] = [75]\n",
        "quadrado2[:,:] = [180]\n",
        "retangulo = np.concatenate((quadrado1, quadrado2), axis = 1)\n",
        "plt.figure(figsize = (3,3))\n",
        "plt.imshow(retangulo,vmin=0, vmax=255, cmap='gray')\n"
      ]
    },
    {
      "cell_type": "markdown",
      "metadata": {
        "id": "w8M4gfD12gpi"
      },
      "source": [
        "**b)** Utilizando a imagem anterior (retângulo criado), efetue a inserção de um quadrado cinza claro no meio do quadrado cinza escuro e de um quadrado cinza escuro no meio do quadrado cinza claro. Plote o resultado obtido e comente a metodologia utilizada."
      ]
    },
    {
      "cell_type": "code",
      "execution_count": 129,
      "metadata": {
        "id": "W47Rdz6k20Rk",
        "colab": {
          "base_uri": "https://localhost:8080/",
          "height": 199
        },
        "outputId": "1bb0c5c9-98af-47c3-964c-60ee8d85bb2d"
      },
      "outputs": [
        {
          "output_type": "execute_result",
          "data": {
            "text/plain": [
              "<matplotlib.image.AxesImage at 0x785ae0843700>"
            ]
          },
          "metadata": {},
          "execution_count": 129
        },
        {
          "output_type": "display_data",
          "data": {
            "text/plain": [
              "<Figure size 300x300 with 1 Axes>"
            ],
            "image/png": "[encoded data removed]"
          },
          "metadata": {}
        }
      ],
      "source": [
        "#Foi usado fatiamento para alterar as cores dos pixels centrais da imagem\n",
        "quadrado1[25:75:1, 25:75:1] = [180]\n",
        "quadrado2[25:75:1, 25:75:1] = [75]\n",
        "retangulo = np.concatenate((quadrado1, quadrado2), axis = 1)\n",
        "plt.figure(figsize = (3,3))\n",
        "plt.imshow(retangulo,vmin=0, vmax=255, cmap='gray')"
      ]
    },
    {
      "cell_type": "markdown",
      "metadata": {
        "id": "46syqzIg59gz"
      },
      "source": [
        "### Exercício 3.2"
      ]
    },
    {
      "cell_type": "markdown",
      "metadata": {
        "collapsed": true,
        "id": "4CFqWZAaUi4z"
      },
      "source": [
        "Baseando-se no tutorial sobre as funções [indices e meshgrid](https://github.com/lrittner/Computacao-Visual/blob/master/tutoriais/02_tutorial_numpy_1_6.ipynb), crie as seguintes imagens sintéticas, plotando o resultado e comentando os métodos utilizados.\n",
        "\n",
        "**a)** Tabuleiro de xadrez;\n"
      ]
    },
    {
      "cell_type": "code",
      "execution_count": 130,
      "metadata": {
        "id": "g_INUD2FUi4z",
        "colab": {
          "base_uri": "https://localhost:8080/",
          "height": 309
        },
        "outputId": "7fb3f4ef-37f2-4016-ea50-7a6eb5adf6a2"
      },
      "outputs": [
        {
          "output_type": "execute_result",
          "data": {
            "text/plain": [
              "<matplotlib.image.AxesImage at 0x785ae096f370>"
            ]
          },
          "metadata": {},
          "execution_count": 130
        },
        {
          "output_type": "display_data",
          "data": {
            "text/plain": [
              "<Figure size 300x300 with 1 Axes>"
            ],
            "image/png": "[encoded data removed]"
          },
          "metadata": {}
        }
      ],
      "source": [
        "#Foi feito um meshgrid para conseguir duas matrizes que foram somadas para compor\n",
        "#uma matrizz booleana que, por sua vez, da origem a uma matriz de zeros e uns por\n",
        "#meio de astype e, finalmente, é multiplicada por 255 para termos o tom oposto ao tom 0\n",
        "\n",
        "aux1, aux2 = np.meshgrid([0,255,0,255,0,255,0,255],[0,255,0,255,0,255,0,255])\n",
        "tabuleiro = (((aux1 + aux2) != 255).astype(int))*255\n",
        "plt.figure(figsize = (3,3))\n",
        "plt.imshow(tabuleiro,vmin=0, vmax=255, cmap='gray')"
      ]
    },
    {
      "cell_type": "markdown",
      "metadata": {
        "id": "R9YXSfIn69BT"
      },
      "source": [
        "**b)** Função parabólica dada pela soma do quadrado de suas coordenadas;"
      ]
    },
    {
      "cell_type": "code",
      "execution_count": 131,
      "metadata": {
        "id": "LLIaMUvq7AFv",
        "colab": {
          "base_uri": "https://localhost:8080/",
          "height": 435
        },
        "outputId": "1a11f0cf-302f-4919-90a4-d90ae96fb093"
      },
      "outputs": [
        {
          "output_type": "display_data",
          "data": {
            "text/plain": [
              "<Figure size 640x480 with 1 Axes>"
            ],
            "image/png": "[encoded data removed]"
          },
          "metadata": {}
        }
      ],
      "source": [
        "#Usou-se a funcao linspace para criar dois vetores (x e y) e, em sequencia,\n",
        "#meshgrid com esses vetores para conseguir os eixos para, por fim, chegar a parabolica\n",
        "\n",
        "x_vector = np.linspace(-10, 10, 201)\n",
        "y_vector = np.linspace(-10, 10, 201)\n",
        "x, y = np.meshgrid(x_vector, y_vector)\n",
        "parabolica = (x**2 + y**2)\n",
        "plt.contourf(x, y, parabolica)\n",
        "plt.axis('scaled')\n",
        "plt.show()"
      ]
    },
    {
      "cell_type": "markdown",
      "metadata": {
        "id": "T3sM-6Vm6sBD"
      },
      "source": [
        "**c)** Círculo de raio 40, com centro em (0,0);"
      ]
    },
    {
      "cell_type": "code",
      "execution_count": 132,
      "metadata": {
        "id": "gU3PvfW76WPF",
        "colab": {
          "base_uri": "https://localhost:8080/",
          "height": 430
        },
        "outputId": "5f1c4e72-02b9-4212-f646-6c804898061b"
      },
      "outputs": [
        {
          "output_type": "display_data",
          "data": {
            "text/plain": [
              "<Figure size 640x480 with 1 Axes>"
            ],
            "image/png": "[encoded data removed]"
          },
          "metadata": {}
        }
      ],
      "source": [
        "#Foi usado metodo semelhante ao do exercicio anterior, mas com a criacao de uma\n",
        "#matriz booleana correspondente ao circulo\n",
        "x_vector = np.linspace(-50, 50, 1001)\n",
        "y_vector = np.linspace(-50, 50, 1001)\n",
        "x, y = np.meshgrid(x_vector, y_vector)\n",
        "circulo = (x**2 + y**2 <= 1600).astype(int)*255\n",
        "plt.contourf(x, y, circulo)\n",
        "plt.axis('scaled')\n",
        "plt.show()"
      ]
    },
    {
      "cell_type": "markdown",
      "metadata": {
        "id": "yJDCwVDbnggD"
      },
      "source": [
        "## Parte 4 - Manipulando imagens com PIL e Numpy"
      ]
    },
    {
      "cell_type": "markdown",
      "metadata": {
        "id": "_vFdIne5nnea"
      },
      "source": [
        "É possível carregar imagens utilizando **PIL.Image** e convertê-las para um array do Numpy. Para mais informações sobre manipulação e visualização de imagens com PIL, Numpy e Matplotlib, leia o tutorial disponível em [\"Lendo e Visualizando Imagens\"](https://github.com/lrittner/Computacao-Visual/blob/master/tutoriais/03_Lendo_e_Visualizando_Imagens.ipynb).\n",
        "\n",
        "Adicione a pasta compartilhada do drive (indicada na descrição do exercício no classroom) como atalho ao seu Google Drive para que seja capaz de abrir a imagem abaixo (clicar sobre o nome da pasta, ir em \"Organizar\" e \"Adicionar atalho\"; na janela que aparecer, selecione \"Todos os locais\", \"Meu Drive\" e clique em \"Adicionar\").\n",
        "\n",
        "Obs.: se encontrar dificuldades na utilização do Google Colaboratory, verifique a parte final deste NB \"Dicas: Utilizando o Colab\"."
      ]
    },
    {
      "cell_type": "code",
      "execution_count": 133,
      "metadata": {
        "id": "vjeJFtr4n72E"
      },
      "outputs": [],
      "source": [
        "# Definindo o nome da pasta compartilhada\n",
        "# IMPORTANTE: substitua \"NOME_DA_PASTA_COMPARTILHADA\" abaixo pelo nome correspondente\n",
        "pasta = \"G_EA979A_2024S1\"\n",
        "path = f\"gdrive/MyDrive/{pasta}/Dados/Ex01/arco-iris-duplo.jpg\"\n",
        "\n",
        "img = Image.open(path)"
      ]
    },
    {
      "cell_type": "markdown",
      "metadata": {
        "id": "9xYtSKP-oAFi"
      },
      "source": [
        "### Exercício 4.1"
      ]
    },
    {
      "cell_type": "markdown",
      "metadata": {
        "id": "gSNa5nd8oEXA"
      },
      "source": [
        "Converta a imagem **img** para um array do numpy, printe o número de dimensões da imagem, seu shape e seu dtype. Comente os métodos utilizados."
      ]
    },
    {
      "cell_type": "code",
      "execution_count": 134,
      "metadata": {
        "id": "9AaLCnDAoLTZ",
        "colab": {
          "base_uri": "https://localhost:8080/"
        },
        "outputId": "c08a926e-25fe-4747-dcd9-a3a4e60024ac"
      },
      "outputs": [
        {
          "output_type": "stream",
          "name": "stdout",
          "text": [
            "(480, 640, 3)\n"
          ]
        }
      ],
      "source": [
        "# Foi usada a funcao array do numpy para converter a imagem em uma matriz e,\n",
        "# em seguida, foi usada a funcao shape para printar as dimensoes da matriz\n",
        "numpy_img = np.array(img)\n",
        "print(np.shape(numpy_img))"
      ]
    },
    {
      "cell_type": "markdown",
      "metadata": {
        "id": "Lbt0s6jXoV3t"
      },
      "source": [
        "### Exercício 4.2"
      ]
    },
    {
      "cell_type": "markdown",
      "metadata": {
        "id": "5A48Eku_oa4C"
      },
      "source": [
        "Visualize a imagem anterior com um tamanho 2 x 2. Comente o seu código utilizando a documentação oficial."
      ]
    },
    {
      "cell_type": "code",
      "execution_count": 135,
      "metadata": {
        "id": "A9CO2EIRogfr",
        "colab": {
          "base_uri": "https://localhost:8080/",
          "height": 200
        },
        "outputId": "eb923dd6-c1fe-4148-b52c-90342f272b52"
      },
      "outputs": [
        {
          "output_type": "execute_result",
          "data": {
            "text/plain": [
              "<matplotlib.image.AxesImage at 0x785ae09c6bc0>"
            ]
          },
          "metadata": {},
          "execution_count": 135
        },
        {
          "output_type": "display_data",
          "data": {
            "text/plain": [
              "<Figure size 200x200 with 1 Axes>"
            ],
            "image/png": "[encoded data removed]"
          },
          "metadata": {}
        }
      ],
      "source": [
        "plt.figure(figsize=(2,2)) # figure:Create a new figure, or activate an existing figure.\n",
        "# figsize(float, float): Width, height in inches.\n",
        "plt.imshow(numpy_img) # imshow: Display data as an image."
      ]
    },
    {
      "cell_type": "markdown",
      "metadata": {
        "id": "2qdeBsmTpPxu"
      },
      "source": [
        "### Exercício 4.3"
      ]
    },
    {
      "cell_type": "markdown",
      "metadata": {
        "id": "QARxjMKmouK7"
      },
      "source": [
        "Selecione e visualize apenas uma região da imagem, usando o slicing do Numpy. Comente os métodos utilizados."
      ]
    },
    {
      "cell_type": "code",
      "execution_count": 136,
      "metadata": {
        "id": "IvKlJR19pZWP",
        "colab": {
          "base_uri": "https://localhost:8080/",
          "height": 200
        },
        "outputId": "a6040641-4bff-464a-ac96-dee9159037f0"
      },
      "outputs": [
        {
          "output_type": "execute_result",
          "data": {
            "text/plain": [
              "<matplotlib.image.AxesImage at 0x785ae096f2b0>"
            ]
          },
          "metadata": {},
          "execution_count": 136
        },
        {
          "output_type": "display_data",
          "data": {
            "text/plain": [
              "<Figure size 200x200 with 1 Axes>"
            ],
            "image/png": "[encoded data removed]"
          },
          "metadata": {}
        }
      ],
      "source": [
        "# Usou-se slice para mostrar apenas a regiao de dimensao (240, 320) da imagem.\n",
        "# canto superior esquerdo da imagem.\n",
        "plt.figure(figsize=(2,2))\n",
        "plt.imshow(numpy_img[0:240:1, 0:320:1])"
      ]
    },
    {
      "cell_type": "markdown",
      "metadata": {
        "id": "xiXMymrl8qH8"
      },
      "source": [
        "## Parte 5 - Geração automática de imagens sintéticas e manipulação de arquivos (opicional para EA979)"
      ]
    },
    {
      "cell_type": "markdown",
      "metadata": {
        "id": "8arqT4Ea8qH8"
      },
      "source": [
        "### Exercício 5.1"
      ]
    },
    {
      "cell_type": "markdown",
      "metadata": {
        "id": "X5tWDZmr8qH9"
      },
      "source": [
        "**a)** Quando geramos imagens sintéticas, estamos interessados em criar um conjunto de imagens com algumas características pré-definidas, mas com certa variabilidade. Para exemplificar esse processo, vamos automatizar a criação dos quadrados do exercício 3.1.\n",
        "\n",
        "Crie uma função que tenha como entradas:\n",
        "- Inteiro **n** que corresponde ao número de imagens a serem criadas;\n",
        "- Inteiro **h** que corresponde à \"altura\" de cada imagem (com \"largura\" 2\\***h**);\n",
        "\n",
        "e que retorne:\n",
        "- Um array **I** de shape (n, h, 2\\*h, 3), em que cada **I**[n] corresponda a uma imagem similar à imagem gerada no exercício 3.1.b), mas colorida.\n",
        "\n",
        "A ideia é que a função crie um conjunto de **n** imagens, todas com os \"quadrados menores\" aproximadamente centralizados nos \"quadrados maiores\". O tamanho dos \"quadrados menores\" deve ser igual para todas as imagens do conjunto e definido de forma aleatória. As duas cores utilizadas devem variar para cada imagem e também são definidas aleatoriamente.\n",
        "\n",
        "Você deve definir certos limites para garantir que a geração das imagens faça sentido: qual a altura mínima das imagens? qual o tamanho mínimo dos quadrados menores? qual a distância mínima entre as bordas dos quadrados menor/maior (para que um não se sobreponha ao outro)?\n",
        "\n",
        "Teste a função com diferentes valores de entrada, tentando sempre plotar as imagens de cada conjunto gerado em um único plot. Comente sobre as decisões tomadas na criação da função (como os limites que foram definidos) e seu comportamento esperado (como a centralização dos quadrados menores em relação às dimensões da imagem)."
      ]
    },
    {
      "cell_type": "code",
      "execution_count": null,
      "metadata": {
        "id": "L0IERyDY8qH9"
      },
      "outputs": [],
      "source": [
        "# Seu código aqui"
      ]
    },
    {
      "cell_type": "markdown",
      "metadata": {
        "id": "QvbEXMlg8qH9"
      },
      "source": [
        "**b)** Conjuntos de imagens podem ser armazenados em diferentes formatos e arquivos. Em especial, arquivos *.npz* são capazes de armazenar diversos arrays, organizados de modo semelhante a um dicionário. Como este tipo de arquivo será utilizado novamente em exercícios futuros, vamos treinar sua manipulação.\n",
        "\n",
        "Utilizando a função do item anterior, crie 4 conjuntos de imagens (**A**, **B**, **C** e **D**) com 10 imagens cada e diferentes valores de **h**. Utilize a função [savez](https://numpy.org/doc/stable/reference/generated/numpy.savez.html) para salvar os 4 arrays em um único arquivo *.npz*, mantendo os nomes dos arrays (**A**, **B**, **C** e **D**). Em seguida, abra o arquivo gerado, imprima os nomes dos arrays armazenados e plote uma imagem de cada conjunto (selecionada aleatoriamente) em um único plot. Comente os métodos utilizados.\n",
        "\n",
        "Obs.: se encontrar dificuldades na utilização do Google Colaboratory, verifique a parte final deste NB \"Dicas: Utilizando o Colab\"."
      ]
    },
    {
      "cell_type": "code",
      "execution_count": null,
      "metadata": {
        "id": "q46Q5L1l8qH9"
      },
      "outputs": [],
      "source": [
        "# Seu código aqui"
      ]
    },
    {
      "cell_type": "markdown",
      "metadata": {
        "id": "Yll6LWqb8qH-"
      },
      "source": [
        "## Parte 6 - Extraindo dados de uma imagem para detecção de objetos (opicional para EA979)"
      ]
    },
    {
      "cell_type": "markdown",
      "metadata": {
        "id": "MKpDjbo68qH-"
      },
      "source": [
        "### Exercício 6.1"
      ]
    },
    {
      "cell_type": "markdown",
      "metadata": {
        "id": "fI3x6Fdr8qH-"
      },
      "source": [
        "Existem diversas funções que calculam dados [matemáticos](https://numpy.org/doc/stable/reference/routines.math.html) e [estatísticos](https://numpy.org/doc/stable/reference/routines.statistics.html) de um array. Esses dados podem ser muito úteis para diversas aplicações em imagens, como na detecção das teclas de uma calculadora, exemplificada neste exercício.\n",
        "\n",
        "**a)** Carregue e plote a imagem \"keyb.tif\", que está no diretório **\"PASTA_COMPARTILHADA\"/Dados/Ex01**. Em seguida, extraia dados ao longo das linhas e colunas da imagem (como [mean](https://numpy.org/doc/stable/reference/generated/numpy.mean.html), [max](https://numpy.org/doc/stable/reference/generated/numpy.max.html) e [min](https://numpy.org/doc/stable/reference/generated/numpy.min.html)) e plote gráficos dos valores obtidos. Comente os métodos utilizados e os resultados obtidos."
      ]
    },
    {
      "cell_type": "code",
      "execution_count": null,
      "metadata": {
        "id": "QKifs8ri8qH-"
      },
      "outputs": [],
      "source": [
        "# Seu código aqui"
      ]
    },
    {
      "cell_type": "markdown",
      "metadata": {
        "id": "CFZhVyEi8qH-"
      },
      "source": [
        "**b)** Utilize os dados extraídos no item anterior para localizar as teclas da calculadora. Plote linhas vermelhas horizontais e verticais sobre a imagem original, passando aproximadamente no meio das teclas. Comente os métodos utilizados."
      ]
    },
    {
      "cell_type": "code",
      "execution_count": null,
      "metadata": {
        "id": "rjITs6118qH_"
      },
      "outputs": [],
      "source": [
        "# Seu código aqui"
      ]
    },
    {
      "cell_type": "markdown",
      "metadata": {
        "id": "PUxSKsmh8qH_"
      },
      "source": [
        "**c)** Agora, plote sobre a imagem original um *bounding box* ao redor de cada tecla localizada. Cada *bounding box* deve ser um retângulo vermelho definindo as bordas da tecla. Comente os métodos utilizados."
      ]
    },
    {
      "cell_type": "code",
      "execution_count": null,
      "metadata": {
        "id": "CEJdDHww8qH_"
      },
      "outputs": [],
      "source": [
        "# Seu código aqui"
      ]
    },
    {
      "cell_type": "markdown",
      "metadata": {
        "collapsed": true,
        "id": "gU9455qnUi4x"
      },
      "source": [
        "# Dicas: Utilizando o Colab\n",
        "\n",
        "O Google Colaboratory (Colab) permite a execução de Jupyter Notebooks na nuvem, através de navegadores, sem a necessidade de instalação do Jupyter na máquina. Nesta disciplina, os tutoriais e exercícios serão realizados na forma de Jupyter Notebooks através do Colab."
      ]
    },
    {
      "cell_type": "markdown",
      "metadata": {
        "id": "LY4t5ltzZbE3"
      },
      "source": [
        "## Conectividade do Colab\n",
        "\n",
        "O Colab informa que pode ficar conectado por até 12 horas. Porém, esse período varia de acordo com a utilização do Notebook e a iteratividade do código. Em alguns casos, após muito tempo de execução, a conta do Colab pode ficar limitada para utilização. Nestes casos, aconselha-se compartilhar o Notebook através do botão \"Compartilhar\" no canto superior direito, e executá-lo com outra conta do Google."
      ]
    },
    {
      "cell_type": "markdown",
      "metadata": {
        "id": "60WI3Xl1Ui4x"
      },
      "source": [
        "## Inserindo novas células\n",
        "\n",
        "O Colab permite a inserção de células de código ou texto. As células de código podem executar comandos em Python ou shell bash (comandos para terminal Linux). As células de texto permitem a inserção de dados em texto, links, tópicos e imagens.\n",
        "\n",
        "Para inserir uma nova célula, posicione o mouse entre duas células e clique no tipo da célula desejada (Código ou Texto):\n",
        "\n",
        "![imagem_2023-02-02_112708896.png](data:image/png;base64,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)\n",
        "\n",
        "Também é possível inserir novas células de código com os comandos \"Ctrl+M B\".\n",
        "\n",
        "As células podem ter sua ordem de execução alterada se forem pressionadas e \"arrastadas\". Além disso, a mudança de ordem pode ser efetuada pelas setas na figura a seguir, ou com os comandos \"Ctrl+M K\" (mover para cima) ou \"Ctrl+M J\" (Mover para baixo).\n",
        "\n",
        "![image.png](data:image/png;base64,iVBORw0KGgoAAAANSUhEUgAAADwAAAAqCAYAAADvczj0AAAABHNCSVQICAgIfAhkiAAAABl0RVh0U29mdHdhcmUAZ25vbWUtc2NyZWVuc2hvdO8Dvz4AAAAtdEVYdENyZWF0aW9uIFRpbWUAVGh1IDAyIEZlYiAyMDIzIDA0OjAxOjA4IFBNIC0wMx+tw6kAAAJMSURBVGiB7ZpPjoIwFId/rWgCGyWSuIKtZ2LrIeQOXIQrsRWWmmhETeRfZzEpAsMgMqjQ8UsaEyHlfbxa+oqEMcbwj6DvDuDVfIRF5yMsOlLVlyJP3AXhvKio0pkwF2SMZa18TAQkoChZ1fIMXV4qZzZNU1BKIUkSCCFvDq97KHCTTZIEhBBhZYGScBzHkKTKiVsYaH4oR1EkbGY5ND+coyh6dzxPJ1tp8Sw/yuVygW3b8Dyv08CqcF0Xq9UKruu27iP7Dec/m8JlXdd9mfRfoXXP3DrKmX1lpv9CYdJqKszlttstTNMEAJimCcZY76UfznBe1rIs6LoOANB1HZZl9V6apmkK3u4Jl2UNwygcNwyjM2nP87Ber+/20fQ8zsMZlmW5UpbDpXVdh6ZpjYKoQtM0yLJce+M8z4Nt2zifz437pXEcI9/qUBSlVpbDpRVFaRzIb9eaz+eV0lyWMdYoJg4NwxBhGCKKot4tPMrSvu8DAHzfbyULAFRVVaiqitlshul0+qzYW5OXdhwHAOA4TitZYCB7WlyaPxHuzSN1ZMJ9Lxq49HK5bC0LACRJEsYLhyAIsFgsOg61X1Dglt2+Z7kLfgzpNhXTkCgIU0pxPB7fGc/ToYQQ8DYajbDf77Hb7e4uQoYKSdOU8R2P6/WKIAhwOByw2WxwOp0eqqKGgATchvN4PIaiKCCEYDKZII7jh+vkvkPYN1lNnCRJtq7mVVSeocsT/peH/DZPWXToknkyYeB/vEwrCHNElQV+eT8s8oprENVSl3yERecL+CX+lbRL4o4AAAAASUVORK5CYII=)"
      ]
    },
    {
      "cell_type": "markdown",
      "metadata": {
        "id": "4yfq2NMkhYij"
      },
      "source": [
        "## Executando células de código\n",
        "\n",
        "As células de código podem ser executadas clicando no ícone \"Play\", ao lado esquerdo da célula, ou através dos comandos \"Shift+Enter\" ou \"Ctrl+Enter\". Após a execução da célula, o índice de execução ficará entre os colchetes [ ].\n",
        "\n",
        "Também é possível:\n",
        "1.   Executar todas as células: Ambiente de Execução > Executar tudo (ou utilizando Ctrl+F9);\n",
        "2.   Executar todas as células após a célula em que está o cursor: Ambiente de Execução > Executar após (ou utilizando Ctrl+F10);\n",
        "3.   Executar todas as células antes da célula em que está o cursor: Ambiente de Execução > Executar antes (ou utilizando Ctrl+F8);\n",
        "\n",
        "No caso da execução correta, um ícone de ok estará ao lado esquerdo.\n",
        "\n",
        "No caso de erros, um ponto de exclamação aparecerá no lado esquerdo e o erro será detalhado abaixo da célula. A execução é interrompida com o erro."
      ]
    },
    {
      "cell_type": "code",
      "execution_count": null,
      "metadata": {
        "colab": {
          "base_uri": "https://localhost:8080/"
        },
        "id": "msTNHMqThysV",
        "outputId": "620809df-08d8-42e0-8d23-1a3311c2bf51"
      },
      "outputs": [
        {
          "name": "stdout",
          "output_type": "stream",
          "text": [
            "Exemplo de execução\n"
          ]
        }
      ],
      "source": [
        "print(\"Exemplo de execução\")"
      ]
    },
    {
      "cell_type": "code",
      "execution_count": null,
      "metadata": {
        "colab": {
          "base_uri": "https://localhost:8080/",
          "height": 165
        },
        "id": "9sGn1tBZhzWi",
        "outputId": "507b7d24-ee9c-460a-eda2-4131396bc87f"
      },
      "outputs": [
        {
          "ename": "NameError",
          "evalue": "ignored",
          "output_type": "error",
          "traceback": [
            "\u001b[0;31m---------------------------------------------------------------------------\u001b[0m",
            "\u001b[0;31mNameError\u001b[0m                                 Traceback (most recent call last)",
            "\u001b[0;32m<ipython-input-28-deb6e9f60348>\u001b[0m in \u001b[0;36m<module>\u001b[0;34m\u001b[0m\n\u001b[0;32m----> 1\u001b[0;31m \u001b[0mprint\u001b[0m\u001b[0;34m(\u001b[0m\u001b[0;34mf\"Exemplo de erro de execução (variável não declarada): {m}\"\u001b[0m\u001b[0;34m)\u001b[0m\u001b[0;34m\u001b[0m\u001b[0;34m\u001b[0m\u001b[0m\n\u001b[0m",
            "\u001b[0;31mNameError\u001b[0m: name 'm' is not defined"
          ]
        }
      ],
      "source": [
        "print(f\"Exemplo de erro de execução (variável não declarada): {m}\")"
      ]
    },
    {
      "cell_type": "markdown",
      "metadata": {
        "id": "-G11ytwzbMID"
      },
      "source": [
        "Para execução de comandos shell bash, utiliza-se o sinal \"!\" antes do código.\n",
        "\n",
        "Abaixo, seguem exemplos para:\n",
        "\n",
        "1.   Listar os arquivos do diretório atual\n",
        "2.   Printar o caminho do diretório atual\n",
        "3. Printar as configurações da GPU utilizada (é necessário estar com GPU habilitada: Ambiente de Execução > Alterar o tipo do ambiente de execução > Acelerador de Hardware)."
      ]
    },
    {
      "cell_type": "code",
      "execution_count": null,
      "metadata": {
        "colab": {
          "base_uri": "https://localhost:8080/"
        },
        "id": "kv80kU7Xbvpl",
        "outputId": "89e8e4dd-1a48-4a19-e6f4-6f093729437b"
      },
      "outputs": [
        {
          "name": "stdout",
          "output_type": "stream",
          "text": [
            "gdrive\tsample_data\n"
          ]
        }
      ],
      "source": [
        "!ls"
      ]
    },
    {
      "cell_type": "code",
      "execution_count": null,
      "metadata": {
        "colab": {
          "base_uri": "https://localhost:8080/"
        },
        "id": "-Z0__P2nbwn9",
        "outputId": "3a0db3bb-fac0-4c62-d1be-830b794c4dcb"
      },
      "outputs": [
        {
          "name": "stdout",
          "output_type": "stream",
          "text": [
            "/content\n"
          ]
        }
      ],
      "source": [
        "!pwd"
      ]
    },
    {
      "cell_type": "code",
      "execution_count": null,
      "metadata": {
        "colab": {
          "base_uri": "https://localhost:8080/"
        },
        "id": "zpf0BnBsb3Dz",
        "outputId": "d3395fcd-112d-4791-8f37-aff48600928e"
      },
      "outputs": [
        {
          "name": "stdout",
          "output_type": "stream",
          "text": [
            "NVIDIA-SMI has failed because it couldn't communicate with the NVIDIA driver. Make sure that the latest NVIDIA driver is installed and running.\n",
            "\n"
          ]
        }
      ],
      "source": [
        "!nvidia-smi\n"
      ]
    },
    {
      "cell_type": "markdown",
      "metadata": {
        "id": "xcEtElqnatCq"
      },
      "source": [
        "## Utilizando Colab com o Google Drive\n",
        "\n",
        "O Colab permite o vínculo de uma conta no Google Drive para carregar ou salvar arquivos. É necessário importar o pacote drive do colab e montá-lo, como segue. Na primeira execução após a conexão do notebook, será necessário realizar a autenticação na conta e permitir a conexão do colab com o drive.\n",
        "\n",
        "Por padrão, os notebooks gerados pelo colab são salvos na pasta 'Colab Notebooks', no Drive. Porém, é possível alterar o local onde o notebook será salvo.\n",
        "\n",
        "É possível verificar os arquivos na pasta de trabalho utilizando o comando shell bash \"ls\". Também é possível alterar a pasta de trabalho atual com o comando \"cd\". Exercite a execução destes comandos utilizando seu Google Drive."
      ]
    },
    {
      "cell_type": "code",
      "execution_count": null,
      "metadata": {
        "colab": {
          "base_uri": "https://localhost:8080/"
        },
        "id": "VVMjB3wshY5L",
        "outputId": "c6976c7b-3bd8-476e-c36b-e40dd44d0b9b"
      },
      "outputs": [
        {
          "name": "stdout",
          "output_type": "stream",
          "text": [
            "Drive already mounted at /content/gdrive; to attempt to forcibly remount, call drive.mount(\"/content/gdrive\", force_remount=True).\n"
          ]
        }
      ],
      "source": [
        "from google.colab import drive\n",
        "drive.mount('/content/gdrive')"
      ]
    },
    {
      "cell_type": "markdown",
      "metadata": {
        "id": "7LPGJJI9gxlo"
      },
      "source": [
        "## Utilizando arquivos compartilhados\n",
        "\n",
        "O Colab permite apenas que sejam utilizados arquivos do Drive da própria conta, ou de drives compartilhados. Para se utilizar arquivos ou pastas compartilhados, pode-se adicionar um atalho à própria conta do Drive.\n",
        "\n",
        "Adicione um atalho ao seu Google Drive da pasta compartilhada (indicada na descrição do exercício no classroom). Liste os arquivos que estão contidos na pasta \"Dados/Ex01\" utilizando a função **os.listdir**."
      ]
    },
    {
      "cell_type": "code",
      "execution_count": null,
      "metadata": {
        "colab": {
          "base_uri": "https://localhost:8080/"
        },
        "id": "GQ2B8nKpMY8c",
        "outputId": "0008c43b-8d0a-425b-ffb0-da41dd9eefb2"
      },
      "outputs": [
        {
          "ename": "FileNotFoundError",
          "evalue": "[WinError 3] O sistema não pode encontrar o caminho especificado: 'gdrive/MyDrive/NOME_DA_PASTA/Dados/Ex01'",
          "output_type": "error",
          "traceback": [
            "\u001b[1;31m---------------------------------------------------------------------------\u001b[0m",
            "\u001b[1;31mFileNotFoundError\u001b[0m                         Traceback (most recent call last)",
            "Cell \u001b[1;32mIn[4], line 3\u001b[0m\n\u001b[0;32m      1\u001b[0m \u001b[38;5;28;01mimport\u001b[39;00m \u001b[38;5;21;01mos\u001b[39;00m\n\u001b[0;32m      2\u001b[0m \u001b[38;5;66;03m#IMPORTANTE: substitua \"NOME_DA_PASTA\" abaixo pelo nome correspondente\u001b[39;00m\n\u001b[1;32m----> 3\u001b[0m list_files \u001b[38;5;241m=\u001b[39m \u001b[43mos\u001b[49m\u001b[38;5;241;43m.\u001b[39;49m\u001b[43mlistdir\u001b[49m\u001b[43m(\u001b[49m\u001b[38;5;124;43m\"\u001b[39;49m\u001b[38;5;124;43mgdrive/MyDrive/NOME_DA_PASTA/Dados/Ex01\u001b[39;49m\u001b[38;5;124;43m\"\u001b[39;49m\u001b[43m)\u001b[49m\n\u001b[0;32m      4\u001b[0m \u001b[38;5;28;01mfor\u001b[39;00m file \u001b[38;5;129;01min\u001b[39;00m list_files:\n\u001b[0;32m      5\u001b[0m   \u001b[38;5;28mprint\u001b[39m(file)\n",
            "\u001b[1;31mFileNotFoundError\u001b[0m: [WinError 3] O sistema não pode encontrar o caminho especificado: 'gdrive/MyDrive/NOME_DA_PASTA/Dados/Ex01'"
          ]
        }
      ],
      "source": [
        "import os\n",
        "#IMPORTANTE: substitua \"NOME_DA_PASTA_COMPARTILHADA\" abaixo pelo nome correspondente\n",
        "list_files = os.listdir(\"gdrive/MyDrive/NOME_DA_PASTA_COMPARTILHADA/Dados/Ex01\")\n",
        "for file in list_files:\n",
        "  print(file)"
      ]
    },
    {
      "cell_type": "markdown",
      "metadata": {
        "id": "dcIlGzopQlAy"
      },
      "source": [
        "### Salvando arquivos no Drive"
      ]
    },
    {
      "cell_type": "markdown",
      "metadata": {
        "id": "oNEB9mfb46iw"
      },
      "source": [
        "Um arquivo, como uma imagem PIL.Image, pode ser salvo com o método save. No entanto, o path deve existir.\n",
        "\n",
        "OBS: um path pode ser criado via shell bash com **!mkdir -p path**.\n",
        "O -p promove a criação de subdiretórios que ainda não existem."
      ]
    },
    {
      "cell_type": "code",
      "execution_count": null,
      "metadata": {
        "id": "lb3EDdxh8qIE"
      },
      "outputs": [],
      "source": [
        "from PIL import Image\n",
        "import numpy as np\n",
        "!mkdir -p gdrive/MyDrive/'Colab Notebooks'/'Processamento de Imagens'/Ex01\n",
        "#IMPORTANTE: substitua \"NOME_DA_PASTA_COMPARTILHADA\" abaixo pelo nome correspondente\n",
        "path_img = \"gdrive/MyDrive/NOME_DA_PASTA_COMPARTILHADA/Dados/Ex01/arco-iris-duplo.jpg\"\n",
        "path_save = \"gdrive/MyDrive/Colab Notebooks/Processamento de Imagens/Ex01/Ex1_arco_iris.png\"\n",
        "pil_img = Image.fromarray(np.array(Image.open(path_img)))\n",
        "pil_img.save(path_save)"
      ]
    },
    {
      "cell_type": "markdown",
      "metadata": {
        "id": "mmVLAS3A8XZu"
      },
      "source": [
        "## Snipets de código\n",
        "\n",
        "O Colab fornece vários códigos prontos em Ajuda > Pesquisar snipets de código. Os snipets também são acessíveis através dos comandos Ctrl+Alt+P.\n"
      ]
    }
  ],
  "metadata": {
    "colab": {
      "provenance": []
    },
    "kernelspec": {
      "display_name": "Python 3",
      "language": "python",
      "name": "python3"
    },
    "language_info": {
      "codemirror_mode": {
        "name": "ipython",
        "version": 3
      },
      "file_extension": ".py",
      "mimetype": "text/x-python",
      "name": "python",
      "nbconvert_exporter": "python",
      "pygments_lexer": "ipython3",
      "version": "3.11.6"
    }
  },
  "nbformat": 4,
  "nbformat_minor": 0
}